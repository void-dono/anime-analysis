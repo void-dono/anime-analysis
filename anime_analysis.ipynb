{
  "nbformat": 4,
  "nbformat_minor": 0,
  "metadata": {
    "colab": {
      "name": "anime_analysis.ipynb",
      "provenance": [],
      "authorship_tag": "ABX9TyMNx0vGxOH0m00eBL26ir06",
      "include_colab_link": true
    },
    "kernelspec": {
      "name": "python3",
      "display_name": "Python 3"
    },
    "language_info": {
      "name": "python"
    }
  },
  "cells": [
    {
      "cell_type": "markdown",
      "metadata": {
        "id": "view-in-github",
        "colab_type": "text"
      },
      "source": [
        "<a href=\"https://colab.research.google.com/github/void-dono/anime-analysis/blob/main/anime_analysis.ipynb\" target=\"_parent\"><img src=\"https://colab.research.google.com/assets/colab-badge.svg\" alt=\"Open In Colab\"/></a>"
      ]
    },
    {
      "cell_type": "code",
      "metadata": {
        "id": "z4M91E4olEFX"
      },
      "source": [
        "import pandas as pd\n",
        "import numpy as np\n",
        "import seaborn as sb"
      ],
      "execution_count": null,
      "outputs": []
    },
    {
      "cell_type": "code",
      "metadata": {
        "id": "L4vyEWiAlyuu"
      },
      "source": [
        "df= pd.read_csv('/MAL-data.csv')\n",
        "df.reset_index(inplace=True) "
      ],
      "execution_count": null,
      "outputs": []
    },
    {
      "cell_type": "markdown",
      "metadata": {
        "id": "C3XTHi8jr74H"
      },
      "source": [
        "Now lets find out the number of source material types that made as anime."
      ]
    },
    {
      "cell_type": "code",
      "metadata": {
        "colab": {
          "base_uri": "https://localhost:8080/"
        },
        "id": "-7oWQFbxmV2Z",
        "outputId": "8e9bdd0c-4e0e-4d4b-d328-50e8235bcd08"
      },
      "source": [
        "df.groupby('Source')['index'].nunique()"
      ],
      "execution_count": null,
      "outputs": [
        {
          "output_type": "execute_result",
          "data": {
            "text/plain": [
              "Source\n",
              " 4-koma manga      2\n",
              " Game              2\n",
              " Light novel      68\n",
              " Manga           274\n",
              " Music             4\n",
              " Novel            42\n",
              " Original         74\n",
              " Other             2\n",
              " Visual novel     18\n",
              " Web manga        14\n",
              "Name: index, dtype: int64"
            ]
          },
          "metadata": {
            "tags": []
          },
          "execution_count": 38
        }
      ]
    },
    {
      "cell_type": "markdown",
      "metadata": {
        "id": "hPSS0XMOs4MZ"
      },
      "source": [
        "As we can see that Manga has the highest converstion to anime followed by Original series which is not so surprising."
      ]
    },
    {
      "cell_type": "markdown",
      "metadata": {
        "id": "a48ATd1puPRM"
      },
      "source": [
        "Now lets do the same thing to find out how many TV, Movies and OVAs are in top 500 entries"
      ]
    },
    {
      "cell_type": "code",
      "metadata": {
        "colab": {
          "base_uri": "https://localhost:8080/"
        },
        "id": "DZtA5jbAoDW4",
        "outputId": "e36a7a29-3d42-425d-cf61-1ca6b30e4387"
      },
      "source": [
        "df.groupby('Type')['index'].nunique()"
      ],
      "execution_count": null,
      "outputs": [
        {
          "output_type": "execute_result",
          "data": {
            "text/plain": [
              "Type\n",
              "Movie      114\n",
              "Music        6\n",
              "ONA         22\n",
              "OVA         26\n",
              "Special     20\n",
              "TV         312\n",
              "Name: index, dtype: int64"
            ]
          },
          "metadata": {
            "tags": []
          },
          "execution_count": 39
        }
      ]
    },
    {
      "cell_type": "code",
      "metadata": {
        "id": "fgwny69apFdm"
      },
      "source": [
        ""
      ],
      "execution_count": null,
      "outputs": []
    }
  ]
}